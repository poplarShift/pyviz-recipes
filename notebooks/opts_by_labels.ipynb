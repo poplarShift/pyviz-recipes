{
 "cells": [
  {
   "cell_type": "markdown",
   "metadata": {},
   "source": [
    "# Apply options by labels without specifying Element types "
   ]
  },
  {
   "cell_type": "markdown",
   "metadata": {},
   "source": [
    "Let's consider a holoviews container:"
   ]
  },
  {
   "cell_type": "code",
   "execution_count": null,
   "metadata": {},
   "outputs": [],
   "source": [
    "import holoviews as hv\n",
    "from holoviews import opts\n",
    "hv.extension('matplotlib')\n",
    "\n",
    "e1 = hv.Curve(([0, 1], [0, 1]), label='a') \n",
    "e2 = hv.Scatter(([1, 0], [0, .5]), label='b')\n",
    "l = e1 * e2\n",
    "\n",
    "print(l)"
   ]
  },
  {
   "cell_type": "markdown",
   "metadata": {},
   "source": [
    "The \"normal\" way of styling could be something like:"
   ]
  },
  {
   "cell_type": "code",
   "execution_count": null,
   "metadata": {},
   "outputs": [],
   "source": [
    "options = [\n",
    "    opts.Curve(padding=.1), opts.Scatter(),\n",
    "    opts.Curve('a', linestyle=':', c='k'), \n",
    "    opts.Scatter('b', c='r'),\n",
    "]\n",
    "l.opts(*options, clone=True)"
   ]
  },
  {
   "cell_type": "markdown",
   "metadata": {},
   "source": [
    "But what if we weren't yet so sure about each Element's type, or we don't want to repeat the same options for every Element type with a certain label? Then we can apply a dictionary of options like this one:"
   ]
  },
  {
   "cell_type": "code",
   "execution_count": null,
   "metadata": {},
   "outputs": [],
   "source": [
    "from holoviews import Options\n",
    "\n",
    "options_by_label = {\n",
    "    'a': Options(linestyle='dashed', c='k', padding=.1), \n",
    "    'b': Options(c='green'),\n",
    "}"
   ]
  },
  {
   "cell_type": "markdown",
   "metadata": {},
   "source": [
    "and do a bit of monkey patching:"
   ]
  },
  {
   "cell_type": "code",
   "execution_count": null,
   "metadata": {},
   "outputs": [],
   "source": [
    "from holoviews.core import Dimensioned\n",
    "\n",
    "def apply_opts_by_label(self, options):\n",
    "    return self.map(lambda e: e.opts(options[e.label] if e.label else Options()))\n",
    "\n",
    "Dimensioned.opts_by_label = apply_opts_by_label"
   ]
  },
  {
   "cell_type": "markdown",
   "metadata": {},
   "source": [
    "And voila, we can apply it:"
   ]
  },
  {
   "cell_type": "code",
   "execution_count": null,
   "metadata": {},
   "outputs": [],
   "source": [
    "l.opts_by_label(options_by_label)"
   ]
  }
 ],
 "metadata": {
  "kernelspec": {
   "display_name": "Python 3",
   "language": "python",
   "name": "python3"
  },
  "language_info": {
   "codemirror_mode": {
    "name": "ipython",
    "version": 3
   },
   "file_extension": ".py",
   "mimetype": "text/x-python",
   "name": "python",
   "nbconvert_exporter": "python",
   "pygments_lexer": "ipython3",
   "version": "3.8.2"
  }
 },
 "nbformat": 4,
 "nbformat_minor": 4
}
