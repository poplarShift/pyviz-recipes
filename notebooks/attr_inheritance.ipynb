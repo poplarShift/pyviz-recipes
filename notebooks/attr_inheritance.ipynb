{
 "cells": [
  {
   "cell_type": "markdown",
   "metadata": {},
   "source": [
    "# Where in the code library are option definitions hidden?\n",
    "\n",
    "The following presents a few utility functions the can be used to investigate inheritance and propagation of parameters from class to class."
   ]
  },
  {
   "cell_type": "code",
   "execution_count": null,
   "metadata": {},
   "outputs": [],
   "source": [
    "import holoviews as hv\n",
    "import holoviews # for convenience, makes copy-pasting printed class names easier\n",
    "\n",
    "hv.extension('matplotlib') # only load one backend at a time\n",
    "\n",
    "# some helper funcs\n",
    "def all_subclasses(cls):\n",
    "    \"\"\"\n",
    "    All classes that inherit from a given class\n",
    "    \"\"\"\n",
    "    return set(cls.__subclasses__()).union([s for c in cls.__subclasses__() for s in all_subclasses(c)])\n",
    "\n",
    "def attr_origin(cls, attr):\n",
    "    \"\"\"\n",
    "    return first class in mro that has attribute actually defined as opposed to inherited\n",
    "    i.e. class where the attribute was originally inherited from\n",
    "    \n",
    "    if it returns (object, None) the attr was not present at all\n",
    "    \"\"\"\n",
    "    try:\n",
    "        for c in cls.mro():\n",
    "            if attr in c.__dict__:\n",
    "                break\n",
    "    finally:\n",
    "        try:\n",
    "            val = getattr(c.param, attr)\n",
    "        except:\n",
    "            val = getattr(c, attr, None)\n",
    "        return c, val\n",
    "\n",
    "def unique_keep_order(seq):\n",
    "    seen = set()\n",
    "    return [x for x in seq if not (x in seen or seen.add(x))]\n",
    "\n",
    "from functools import reduce\n",
    "\n",
    "def common_elements(seqs):\n",
    "    \"\"\"\n",
    "    Get a list of common elements in a seq of seqs, preserving order\n",
    "    \"\"\"\n",
    "    return [i for i in unique_keep_order(reduce(lambda x, y: list(x)+list(y), seqs)) if all(i in l for l in seqs)]\n",
    "\n",
    "def common_ancestor(clss):\n",
    "    \"\"\"\n",
    "    For a seq of classes, get first root node in mros\n",
    "    \"\"\"\n",
    "    mros = [c.mro() for c in clss]\n",
    "    return common_elements(mros)[0]"
   ]
  },
  {
   "cell_type": "code",
   "execution_count": null,
   "metadata": {},
   "outputs": [],
   "source": [
    "%pprint \n",
    "%pprint"
   ]
  },
  {
   "cell_type": "markdown",
   "metadata": {},
   "source": [
    "An example:"
   ]
  },
  {
   "cell_type": "markdown",
   "metadata": {},
   "source": [
    "Pretty much the mother of all plotting classes: `GenericElementPlot`"
   ]
  },
  {
   "cell_type": "code",
   "execution_count": null,
   "metadata": {},
   "outputs": [],
   "source": [
    "# all mpl plotting classes\n",
    "all_plots = all_subclasses(hv.plotting.plot.GenericElementPlot)\n",
    "# reality check:\n",
    "print(common_ancestor(all_plots))"
   ]
  },
  {
   "cell_type": "markdown",
   "metadata": {},
   "source": [
    "Choose an attribute"
   ]
  },
  {
   "cell_type": "code",
   "execution_count": null,
   "metadata": {},
   "outputs": [],
   "source": [
    "attr = 'show_legend'"
   ]
  },
  {
   "cell_type": "code",
   "execution_count": null,
   "metadata": {},
   "outputs": [],
   "source": [
    "# all plots that define a given attr\n",
    "attr_origins = set(attr_origin(c, attr) for c in all_plots)\n",
    "# if attr_origin returns object that means it was not present\n",
    "plots, params = zip(*((plot, param) for plot, param in attr_origins if plot is not object))\n",
    "plots"
   ]
  },
  {
   "cell_type": "code",
   "execution_count": null,
   "metadata": {},
   "outputs": [],
   "source": [
    "# inheritance of attr ultimately *could* rely only on these plots, the rest are strictly speaking superfluous\n",
    "# (assuming leaving unchanged the current inheritance structure)\n",
    "# i.e. plots from which the other plots inherit the attr (even though they define it themselves)\n",
    "# i.e. the last in the plot's mro which is also element of plots\n",
    "strict_parents = set(common_elements([p.mro(), plots])[-1] for p in plots)\n",
    "strict_parents"
   ]
  },
  {
   "cell_type": "code",
   "execution_count": null,
   "metadata": {},
   "outputs": [],
   "source": [
    "common_ancestor(strict_parents)"
   ]
  }
 ],
 "metadata": {
  "kernelspec": {
   "display_name": "Python 3",
   "language": "python",
   "name": "python3"
  },
  "language_info": {
   "codemirror_mode": {
    "name": "ipython",
    "version": 3
   },
   "file_extension": ".py",
   "mimetype": "text/x-python",
   "name": "python",
   "nbconvert_exporter": "python",
   "pygments_lexer": "ipython3",
   "version": "3.8.2"
  }
 },
 "nbformat": 4,
 "nbformat_minor": 4
}
