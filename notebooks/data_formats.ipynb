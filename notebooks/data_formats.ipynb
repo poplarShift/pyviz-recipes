{
 "cells": [
  {
   "cell_type": "code",
   "execution_count": null,
   "metadata": {
    "collapsed": false,
    "inputHidden": false,
    "outputHidden": false
   },
   "outputs": [],
   "source": [
    "import holoviews as hv\n",
    "hv.extension('bokeh')\n",
    "import pandas as pd\n",
    "import numpy as np\n",
    "import xarray as xr\n",
    "from holoviews import opts, dim\n",
    "\n",
    "print(hv.__version__)"
   ]
  },
  {
   "cell_type": "markdown",
   "metadata": {},
   "source": [
    "Holoviews accepts several different input data formats to construct Elements. Generally, as long as one can define `kdim` and `vdims` consistently, holoviews is quite smart about handling data.\n",
    "\n",
    "Options include, but are not limited to:\n",
    "1. Tuples\n",
    "1. numpy arrays\n",
    "1. pandas dataframes\n",
    "1. xarray datasets/dataarrays\n",
    "\n",
    "1.-3. fall in the category [Tabular Datasets](http://holoviews.org/user_guide/Tabular_Datasets.html), while the 4th. is somewhat special in that it is a [Gridded Dataset](http://holoviews.org/user_guide/Gridded_Datasets.html) which makes asssumptions about the dimensions."
   ]
  },
  {
   "cell_type": "markdown",
   "metadata": {},
   "source": [
    "Let's start in the back and consider the most practical use cases first: pandas dataframes and xarray datasets. This is because 1. and 2. make it harder to keep track of associated metadata (such as variable names)."
   ]
  },
  {
   "cell_type": "markdown",
   "metadata": {},
   "source": [
    "Dataframes are tabular, and so we can choose any column we like to be key or value dimensions:"
   ]
  },
  {
   "cell_type": "code",
   "execution_count": null,
   "metadata": {},
   "outputs": [],
   "source": [
    "df = pd.DataFrame({\n",
    "    'Time': np.tile(np.arange(100), 9),\n",
    "    'y': np.random.randn(900).cumsum(axis=0),\n",
    "    'gridsize': np.repeat([0, 1, 2, 0, 1, 2, 0, 1, 2], 100),\n",
    "    'turbulence': np.repeat([0, 0, 0, 1, 1, 1, 2, 2, 2], 100)})\n",
    "\n",
    "hv.Scatter(df, kdims='Time', vdims='gridsize') + hv.Scatter(df, kdims='turbulence', vdims='y')"
   ]
  },
  {
   "cell_type": "markdown",
   "metadata": {},
   "source": [
    "Xarray datasets, on the other hand, have an inherent understanding about what are key dimensions (the coordinates) and what are value dimensions."
   ]
  },
  {
   "cell_type": "code",
   "execution_count": null,
   "metadata": {},
   "outputs": [],
   "source": [
    "ds = xr.DataArray(np.random.rand(5,7), \n",
    "                  coords={'x': (['x'], np.arange(5)), 'y': (['y'], np.arange(7))},\n",
    "                  dims=['x', 'y']\n",
    "                ).rename('z').to_dataset()"
   ]
  },
  {
   "cell_type": "code",
   "execution_count": null,
   "metadata": {},
   "outputs": [],
   "source": [
    "hv.Points(ds).opts(opts.Points(color=hv.dim('z'), colorbar=True, size=2))"
   ]
  },
  {
   "cell_type": "markdown",
   "metadata": {},
   "source": [
    "What happened is that holoviews automatically understood that x and y are `kdims` and z is a `vdim`. Cf.:"
   ]
  },
  {
   "cell_type": "code",
   "execution_count": null,
   "metadata": {},
   "outputs": [],
   "source": [
    "#hv.Points(ds, kdims=['x', 'z'], vdims='y') # does not work!"
   ]
  },
  {
   "cell_type": "markdown",
   "metadata": {},
   "source": [
    "Which yields a \n",
    "```\n",
    "DataError: xarray Dataset must define coordinates for all defined kdims, [Dimension('z')] coordinates not found.\n",
    "\n",
    "XArrayInterface expects gridded data, for more information on supported datatypes see http://holoviews.org/user_guide/Gridded_Datasets.html\n",
    "```"
   ]
  },
  {
   "cell_type": "markdown",
   "metadata": {},
   "source": [
    "Now for the first two options:\n",
    "1.: Not the recommended way, IIRC, but works. \n",
    "2.: works as well."
   ]
  },
  {
   "cell_type": "code",
   "execution_count": null,
   "metadata": {},
   "outputs": [],
   "source": [
    "data_tuple = (np.arange(10), 10*np.random.rand(10))\n",
    "data_tuple2 = ([chr(65+i) for i in range(10)], list(range(10)))\n",
    "data_array = np.random.rand(10,2)\n",
    "\n",
    "hv.Scatter(data_tuple, kdims='x', vdims='y') + hv.Points(data_array) + hv.Bars(data_tuple2)"
   ]
  },
  {
   "cell_type": "markdown",
   "metadata": {},
   "source": [
    "When in doubt, one can always try and construct a `Dataset` and see what happens by default:"
   ]
  },
  {
   "cell_type": "code",
   "execution_count": null,
   "metadata": {},
   "outputs": [],
   "source": [
    "hv.Dataset(ds)"
   ]
  },
  {
   "cell_type": "code",
   "execution_count": null,
   "metadata": {},
   "outputs": [],
   "source": [
    "hv.Dataset(df)"
   ]
  }
 ],
 "metadata": {
  "kernelspec": {
   "display_name": "Python 3",
   "language": "python",
   "name": "python3"
  },
  "language_info": {
   "codemirror_mode": {
    "name": "ipython",
    "version": 3
   },
   "file_extension": ".py",
   "mimetype": "text/x-python",
   "name": "python",
   "nbconvert_exporter": "python",
   "pygments_lexer": "ipython3",
   "version": "3.6.7"
  }
 },
 "nbformat": 4,
 "nbformat_minor": 2
}
