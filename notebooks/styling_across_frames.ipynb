{
 "cells": [
  {
   "cell_type": "markdown",
   "metadata": {},
   "source": [
    "# Consistently styling elements across frames "
   ]
  },
  {
   "cell_type": "markdown",
   "metadata": {},
   "source": [
    "Consider the following example."
   ]
  },
  {
   "cell_type": "code",
   "execution_count": null,
   "metadata": {},
   "outputs": [],
   "source": [
    "%load_ext autoreload\n",
    "%autoreload 2"
   ]
  },
  {
   "cell_type": "code",
   "execution_count": null,
   "metadata": {},
   "outputs": [],
   "source": [
    "import numpy as np\n",
    "import holoviews as hv\n",
    "hv.extension('bokeh')\n",
    "\n",
    "np.random.seed(42)\n",
    "data1 = np.random.randn(100,2)\n",
    "data2 = np.random.rand(10,2)\n",
    "a = hv.Scatter(data1, label='a')\n",
    "b = hv.Scatter(data2, label='b').opts(size=10)\n",
    "a*b + b"
   ]
  },
  {
   "cell_type": "markdown",
   "metadata": {},
   "source": [
    "Of course, you may want `b` to have the same styling across all frames, not being red in one and blue in the next. What happens is that holoviews looks at each Overlay separately and then applies the default coloring option, i.e. a `Cycle`."
   ]
  },
  {
   "cell_type": "markdown",
   "metadata": {},
   "source": [
    "What's more, even when we declare another element with the same data source, holoviews will not know that it is in fact the same data source."
   ]
  },
  {
   "cell_type": "code",
   "execution_count": null,
   "metadata": {},
   "outputs": [],
   "source": [
    "from utils.holoviews.style_link import StyleLink\n",
    "\n",
    "b2 = hv.Scatter(data2, label='b2')"
   ]
  },
  {
   "cell_type": "markdown",
   "metadata": {},
   "source": [
    "`StyleLink` has two arguments:\n",
    "1. First, a list of elements whose styles to link. Each item of the list is a holoviews element or a list of holoviews elements. At the nested level, each element is styled the same way; at the top level, all items are styled consistently in relation to each other.\n",
    "2. A dictionary whose keys are style options and whose values are `Cycle` objects. If passed `None`, the corresponding Cycle is taken from the options alread applied.\n",
    "\n",
    "Note thate elements should be of the same style. In fact, holoviews already ensures independent styling for different types of elements (say, Curve and Scatter), so there should not be a need to apply `StyleLink` to different types of elements."
   ]
  },
  {
   "cell_type": "code",
   "execution_count": null,
   "metadata": {},
   "outputs": [],
   "source": [
    "sl = StyleLink([[a], [b, b2]], {'color': None, 'size': hv.Cycle([4, 20])})"
   ]
  },
  {
   "cell_type": "code",
   "execution_count": null,
   "metadata": {},
   "outputs": [],
   "source": [
    "a*b + b2"
   ]
  },
  {
   "cell_type": "markdown",
   "metadata": {},
   "source": [
    "We can also undo this link (but note this reverts to the default options at the time we set the link, so options set in the meantime may vanish):"
   ]
  },
  {
   "cell_type": "code",
   "execution_count": null,
   "metadata": {},
   "outputs": [],
   "source": [
    "sl.unlink()"
   ]
  },
  {
   "cell_type": "code",
   "execution_count": null,
   "metadata": {},
   "outputs": [],
   "source": [
    "a*b + b2"
   ]
  }
 ],
 "metadata": {
  "kernelspec": {
   "display_name": "Python 3",
   "language": "python",
   "name": "python3"
  },
  "language_info": {
   "codemirror_mode": {
    "name": "ipython",
    "version": 3
   },
   "file_extension": ".py",
   "mimetype": "text/x-python",
   "name": "python",
   "nbconvert_exporter": "python",
   "pygments_lexer": "ipython3",
   "version": "3.8.2"
  }
 },
 "nbformat": 4,
 "nbformat_minor": 4
}
